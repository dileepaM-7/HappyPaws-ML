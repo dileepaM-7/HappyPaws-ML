{
 "cells": [
  {
   "cell_type": "code",
   "execution_count": null,
   "id": "36bb6155",
   "metadata": {},
   "outputs": [
    {
     "name": "stdout",
     "output_type": "stream",
     "text": [
      "Accuracy: 28.74%\n"
     ]
    }
   ],
   "source": [
    "import pandas as pd\n",
    "from sklearn.model_selection import train_test_split\n",
    "from sklearn.tree import DecisionTreeClassifier\n",
    "from sklearn.metrics import accuracy_score\n",
    "import joblib\n",
    "\n",
    "# Read the CSV file into a DataFrame\n",
    "df = pd.read_csv('Final.csv')\n",
    "\n",
    "# Assuming 'Weight', 'Age', and the 'Breed_' columns are your feature columns\n",
    "feature_columns = ['Weight', 'Age'] + df.columns[df.columns.str.startswith('Breed_')].tolist()\n",
    "\n",
    "# Assuming 'Preferred Foods_' columns are your target columns\n",
    "target_columns = df.columns[df.columns.str.startswith('Preferred Foods_')].tolist()\n",
    "\n",
    "# Split the data into training and testing sets\n",
    "x_train, x_test, y_train, y_test = train_test_split(df[feature_columns], df[target_columns], test_size=0.2, random_state=15)\n",
    "\n",
    "# Initialize and train the DecisionTreeClassifier\n",
    "clf = DecisionTreeClassifier().fit(x_train, y_train)\n",
    "\n",
    "# Get predictions on the test set\n",
    "y_pred = clf.predict(x_test)\n",
    "\n",
    "# Print the accuracy\n",
    "accuracy = accuracy_score(y_test, y_pred)\n",
    "print(f'Accuracy: {accuracy * 100:.2f}%')\n",
    "\n",
    "# Save the trained model using joblib\n",
    "joblib.dump(clf, './model.joblib')\n",
    "\n",
    "# Get user inputs\n",
    "user_age = float(input(\"Enter the age: \"))\n",
    "user_weight = float(input(\"Enter the weight: \"))\n",
    "user_breed = input(\"Enter the breed (e.g., 'Cocker Spaniel', 'Labrador', etc.): \")\n",
    "\n",
    "# Create a DataFrame with the user's input\n",
    "user_input = pd.DataFrame({'Weight': [user_weight], 'Age': [user_age]})\n",
    "# Add a column for the specified breed\n",
    "user_input['Breed_' + user_breed] = 1\n",
    "\n",
    "# Ensure column order and structure match the training data\n",
    "user_df = user_input.reindex(columns=feature_columns, fill_value=0)\n",
    "\n",
    "# Use the trained model to predict preferred foods\n",
    "user_pred = clf.predict(user_df)\n",
    "\n",
    "# Display or use the prediction\n",
    "food_category_names = df.columns[df.columns.str.startswith('Preferred Foods_')].tolist()\n",
    "predicted_category_index = user_pred.argmax(axis=1)\n",
    "predicted_category = food_category_names[predicted_category_index[0]]\n",
    "predicted_category = predicted_category.replace('Preferred Foods_', '')\n",
    "\n",
    "# Display the predicted category\n",
    "print(\"Predicted Preferred Foods:\", predicted_category)"
   ]
  },
  {
   "cell_type": "code",
   "execution_count": null,
   "id": "fe6553de",
   "metadata": {},
   "outputs": [],
   "source": []
  }
 ],
 "metadata": {
  "kernelspec": {
   "display_name": "Python 3 (ipykernel)",
   "language": "python",
   "name": "python3"
  },
  "language_info": {
   "codemirror_mode": {
    "name": "ipython",
    "version": 3
   },
   "file_extension": ".py",
   "mimetype": "text/x-python",
   "name": "python",
   "nbconvert_exporter": "python",
   "pygments_lexer": "ipython3",
   "version": "3.11.5"
  }
 },
 "nbformat": 4,
 "nbformat_minor": 5
}
